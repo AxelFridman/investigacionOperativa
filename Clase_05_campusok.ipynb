{
 "cells": [
  {
   "cell_type": "markdown",
   "metadata": {
    "collapsed": true,
    "pycharm": {
     "is_executing": false
    },
    "slideshow": {
     "slide_type": "slide"
    }
   },
   "source": [
    "### Introducción a la Investigación Operativa y la Optimización\n",
    "\n",
    "### • Clase 5  - Métodos Cuasi-Newton\n",
    "\n",
    "**Nazareno Faillace Mullen - Departamento de Matemática, FCEN, UBA**"
   ]
  },
  {
   "cell_type": "markdown",
   "metadata": {
    "pycharm": {},
    "slideshow": {
     "slide_type": "slide"
    }
   },
   "source": [
    "La idea, como en el caso del Método de Newton, es aproximar $f$ mediante una expresión cuadrática. Sin embargo, en los métodos cuasi-Newton, se utiliza, en vez de $Hf(x)$, una matriz $B_k$ que sea simétrica definida positiva. La idea es que $B_k$ aproxime a $Hf(x_k)$. \n",
    "\n",
    "Como hemos visto, en el método de Newton la dirección de descenso (si $Hf(x_k)\\succ 0$) viene dada por:\n",
    "\n",
    "$$-Hf(x_k)^{-1}\\nabla f(x^{k})$$\n",
    "\n",
    "Dos enfoques: <br>\n",
    "• Aproximar $Hf(x_k)$ con matrices $B_k$ <br>\n",
    "• Aproximar $Hf(x_k)^{-1}$ con matrices $H_k$ [$\\leftarrow$ trabajamos con este]"
   ]
  },
  {
   "cell_type": "markdown",
   "metadata": {
    "pycharm": {},
    "slideshow": {
     "slide_type": "slide"
    }
   },
   "source": [
    "### Algoritmo general de un método Cuasi-Newton\n",
    "\n",
    "Dados: $f,\\; x^0 \\in \\mathbb{R}^n, \\; H_0\\in \\mathbb{R}^{n\\times n}\\;\\;\\text{definida positiva},\\; \\varepsilon > 0, \\; k_{MAX} > 0$ <br>\n",
    "$k = 0$ <br>\n",
    "REPETIR  mientras $\\lVert \\nabla f(x_k) \\rVert > \\varepsilon$ y $k<k_{MAX}$:<br>\n",
    "&nbsp;&nbsp;&nbsp;&nbsp; Definir $d_k = -H_k\\nabla f(x_k)$<br>\n",
    "&nbsp;&nbsp;&nbsp;&nbsp; Obtener $t_k$ (sección áurea, Armijo o Wolfe)<br>\n",
    "&nbsp;&nbsp;&nbsp;&nbsp; Hacer $x_{k+1} = x_k + t_kd_k$ <br>\n",
    "&nbsp;&nbsp;&nbsp;&nbsp; Determinar $H_{k+1}$ definida positiva<br>\n",
    "&nbsp;&nbsp;&nbsp;&nbsp; $k=k+1$<br>\n",
    "DEVOLVER $x_k$\n",
    "\n",
    "__Obs:__ si $H_k = I \\rightarrow$ Método del Gradiente <br>\n",
    "si $H_k = Hf(x_k)^{-1} \\rightarrow$ Método de Newton\n",
    "\n",
    "__Obs:__ como $H_0$ podemos tomar la identidad, ya que es definida positiva. También podría tomarse $Hf(x_0)$ si es definida positiva."
   ]
  },
  {
   "cell_type": "markdown",
   "metadata": {
    "pycharm": {},
    "slideshow": {
     "slide_type": "slide"
    }
   },
   "source": [
    "Sean $y_k = \\nabla f(x_{k+1}) - \\nabla f(x_k)$ y $s_k = x_{k+1} - x_k$, se demuestra que una propiedad que debe satisfacer $H_{k+1}$ definida por el algoritmo es que:\n",
    "$$H_{k+1}y_j = s_j \\quad \\forall j=0,1,\\dots,k$$\n",
    "\n",
    "### Broyden (Mala)\n",
    "\n",
    "$$H_{k+1} = H_k + \\dfrac{(s_k-H_ky_k)(s_k-H_ky_k)^T}{y_k^T(s_k-H_ky_k)}$$\n",
    "\n",
    "### Método DFP (Davindon, Fletcher y Powell)\n",
    "\n",
    "$$H_{k+1} = H_k + \\dfrac{s_k(s_k)^T}{(y_k)^Ts_k} - \\dfrac{H_ky_k(y_k)^TH_k}{(y_k)^TH_ky_k}$$\n",
    "\n",
    "### Método BFGS (Broyden, Fletcher, Goldfarb y Shanno)\n",
    "\n",
    "$$H_{k+1} = H_k + \\left(1 + \\dfrac{(y_k)^TH_ky_k}{(s_k)^Ty_k}\\right)\\dfrac{s_k(s_k)^T}{(s_k)^Ty_k} - \\dfrac{s_k(y_k)^TH_k + H_ky_k(s_k)^T}{(s_k)^Ty_k} $$"
   ]
  },
  {
   "cell_type": "code",
   "execution_count": 26,
   "metadata": {},
   "outputs": [],
   "source": [
    "def broydenMala(hk, sk, yk):\n",
    "    res = hk + (np.outer((sk-hk@yk),(sk-hk@yk).T)) / (yk.T@(sk-hk@yk))\n",
    "    return res"
   ]
  },
  {
   "cell_type": "code",
   "execution_count": 34,
   "metadata": {},
   "outputs": [],
   "source": [
    "def metodoDFP(hk, sk, yk):\n",
    "    res = hk + (np.outer(sk,sk.T))/(yk.T@sk)\n",
    "    res = res -  (hk@np.outer(yk,(yk.T))@hk)/(yk.T@ hk@yk)\n",
    "    return res"
   ]
  },
  {
   "cell_type": "code",
   "execution_count": 19,
   "metadata": {},
   "outputs": [],
   "source": [
    "def metodoBFGS(hk, sk, yk):\n",
    "    res = hk + (1+(yk.T@hk@yk)/(sk.T@yk)) * (sk@sk.T)/(sk.T@yk)\n",
    "    res = res - ((sk @ (yk.T) @ hk) + hk@yk@(sk.T))/(sk.T@yk)\n",
    "    return res"
   ]
  },
  {
   "cell_type": "code",
   "execution_count": 35,
   "metadata": {},
   "outputs": [],
   "source": [
    "def cuasiNewtonParaCuadraticas(A, b, x0, h0, eps, maxIter):\n",
    "    itera = 0\n",
    "    xViejo = x0\n",
    "    hk = h0\n",
    "    dkViejo = A@xViejo+b\n",
    "    xs = [xViejo]\n",
    "    while(np.linalg.norm(dkViejo)>eps and itera<maxIter):\n",
    "        dkNuevo = A@xViejo+b\n",
    "        dkNuevo = -hk@dkNuevo \n",
    "        tk =  (dkNuevo @ dkNuevo.T)/(dkNuevo.T@A@dkNuevo)\n",
    "        xNuevo = xViejo + dkNuevo * tk\n",
    "        sk = (xNuevo - xViejo)\n",
    "        yk = A@sk\n",
    "        hk = metodoDFP(hk, sk, yk) #cheqear si broyden es lo mejor\n",
    "                                      \n",
    "        itera = itera + 1\n",
    "        xs.append(xNuevo)\n",
    "        \n",
    "        xViejo = xNuevo\n",
    "        dkViejo = dkNuevo\n",
    "    return(xViejo, itera, xs)"
   ]
  },
  {
   "cell_type": "markdown",
   "metadata": {
    "slideshow": {
     "slide_type": "slide"
    }
   },
   "source": [
    "### Importante\n",
    "\n",
    "Como en general se trabaja con vectores columna:<br>\n",
    "• $\\mathbf{u^T}\\mathbf{v} = <\\mathbf{u}, \\mathbf{v}>\\rightarrow$ `u @ v` <br> \n",
    "\n",
    "• $ {\\displaystyle \\mathbf{u} \\mathbf{v^T} = \\mathbf {u} \\otimes \\mathbf {v} ={\\begin{bmatrix}u_{1}v_{1}&u_{1}v_{2}&\\dots &u_{1}v_{n}\\\\u_{2}v_{1}&u_{2}v_{2}&\\dots &u_{2}v_{n}\\\\\\vdots &\\vdots &\\ddots &\\vdots \\\\u_{m}v_{1}&u_{m}v_{2}&\\dots &u_{m}v_{n}\\end{bmatrix}}}\\rightarrow$ `np.outer(u, v)`"
   ]
  },
  {
   "cell_type": "code",
   "execution_count": 22,
   "metadata": {},
   "outputs": [
    {
     "name": "stdout",
     "output_type": "stream",
     "text": [
      "-2.0\n",
      "[[-1.   0.5  0. ]\n",
      " [ 2.  -1.  -0. ]\n",
      " [-3.   1.5  0. ]]\n"
     ]
    }
   ],
   "source": [
    "u = np.array([1,-2,3])\n",
    "v = np.array([-1,1/2,0])\n",
    "print(u@v.T)\n",
    "print(np.outer(u, v))"
   ]
  },
  {
   "cell_type": "markdown",
   "metadata": {
    "slideshow": {
     "slide_type": "slide"
    }
   },
   "source": [
    "## Ejercicios\n",
    "\n",
    "1. Implementar los tres métodos de Cuasi-Newton para el caso de **funciones cuadráticas** $f(x)=\\frac{1}{2}x^T A x + bx + c$ con $A\\succ 0$. Debe tomar como input la matriz $A$, el vector $b$, el vector inicial $x_0$ y la cantidad máxima de iteraciones $k_{MAX}$. Utilizar que para este tipo de funciones sabemos que: <br>\n",
    "• $\\nabla f(x_k) = Ax_k +b$ <br>\n",
    "• $t_k = -\\dfrac{(Ax_k +b)^T d_k}{(d_k)^TAd_k}$ <br>\n",
    "• $y_k=\\nabla f(x_{k+1}) - \\nabla f(x_k)=(Ax_{k+1} + b) - (Ax_k+b) = A(x_{k+1} - x_k)= As_k$\n",
    "2. Testear los tres métodos con las funciones cuadráticas dadas por $f(x)=\\frac{1}{2}x^T A_i x$ para cada una de las $A_i$ que figuran debajo. Comparar el número de iteraciones de cada uno con el de Gradiente Conjugado.\n",
    "3. Para $A_4$ graficar el recorrido que realiza cualquier de los métodos y el de Gradiente Conjugado.\n",
    "4. Implementar los tres métodos para funciones en general y aplicarlos para hallar el minimizador de la función de resta de exponenciales. Comparar con el Método de Newton Modificado y con Gradiente Conjugado. Se pueden elegir, por ejemplo, estos puntos iniciales: <br>\n",
    "• $x_0=(1,0)$ <br>\n",
    "• $x_0 =(2, 1.5)$ <br>\n",
    "• $x_0=(0.5, 0.5)$ <br>\n",
    "• $x_0=(0,0)$ <br>"
   ]
  },
  {
   "cell_type": "code",
   "execution_count": 23,
   "metadata": {},
   "outputs": [
    {
     "name": "stdout",
     "output_type": "stream",
     "text": [
      "Defaulting to user installation because normal site-packages is not writeable\n",
      "Requirement already satisfied: plotly in /home/clinux01/.local/lib/python3.9/site-packages (5.11.0)\n",
      "Requirement already satisfied: tenacity>=6.2.0 in /home/clinux01/.local/lib/python3.9/site-packages (from plotly) (8.1.0)\n",
      "Note: you may need to restart the kernel to use updated packages.\n"
     ]
    }
   ],
   "source": [
    "pip install plotly"
   ]
  },
  {
   "cell_type": "code",
   "execution_count": 24,
   "metadata": {
    "slideshow": {
     "slide_type": "skip"
    }
   },
   "outputs": [],
   "source": [
    "import numpy as np\n",
    "from numpy.linalg import norm, eigvals, solve\n",
    "import matplotlib.pyplot as plt\n",
    "import plotly\n",
    "import plotly.express as px\n",
    "import plotly.graph_objs as go\n",
    "from plotly.offline import init_notebook_mode, iplot\n",
    "\n",
    "A1 = np.array([[8, 3, 3, 6, 5, 4, 4, 3, 6, 3],\n",
    "             [3, 4, 2, 2, 2, 1, 3, 3, 3, 2],\n",
    "             [3, 2, 5, 2, 1, 2, 4, 2, 4, 1],\n",
    "             [6, 2, 2, 6, 3, 2, 4, 2, 4, 2],\n",
    "             [5, 2, 1, 3, 5, 4, 1, 2, 4, 3],\n",
    "             [4, 1, 2, 2, 4, 5, 1, 2, 5, 2],\n",
    "             [4, 3, 4, 4, 1, 1, 6, 2, 4, 2],\n",
    "             [3, 3, 2, 2, 2, 2, 2, 4, 4, 2],\n",
    "             [6, 3, 4, 4, 4, 5, 4, 4, 8, 3],\n",
    "             [3, 2, 1, 2, 3, 2, 2, 2, 3, 4]])\n",
    "\n",
    "A2 = np.array([[2, 0, 1, 0, 1],\n",
    "               [0, 2, 1, 1, 1],\n",
    "               [1, 1, 3, 1, 1],\n",
    "               [0, 1, 1, 1, 0],\n",
    "               [1, 1, 1, 0, 2]])\n",
    "\n",
    "A3 = np.diag(np.random.randint(1, 5, 100))\n",
    "\n",
    "A4 = np.array([[10, 0], [0, 1]])"
   ]
  },
  {
   "cell_type": "code",
   "execution_count": 38,
   "metadata": {},
   "outputs": [
    {
     "data": {
      "text/plain": [
       "(array([-3.70406159e-16, -1.17589257e-16, -8.81919427e-17,  3.17490994e-16,\n",
       "         2.35178514e-16]),\n",
       " 6,\n",
       " [array([1., 1., 1., 1., 1.]),\n",
       "  array([ 0.23219814,  0.04024768, -0.34365325,  0.42414861,  0.04024768]),\n",
       "  array([ 0.06976744, -0.1627907 , -0.06578073,  0.30232558,  0.02458472]),\n",
       "  array([-0.04380242, -0.14196956, -0.04939422,  0.21714818,  0.11711712]),\n",
       "  array([-0.03278689, -0.1420765 , -0.04918033,  0.19672131,  0.12021858]),\n",
       "  array([ 8.74300632e-16,  2.77555756e-16,  2.08166817e-16, -7.49400542e-16,\n",
       "         -5.55111512e-16]),\n",
       "  array([-3.70406159e-16, -1.17589257e-16, -8.81919427e-17,  3.17490994e-16,\n",
       "          2.35178514e-16])])"
      ]
     },
     "execution_count": 38,
     "metadata": {},
     "output_type": "execute_result"
    }
   ],
   "source": [
    "cuasiNewtonParaCuadraticas(A2, np.zeros(5), np.ones(5), 1*np.eye(5), 0.000001, 10000)"
   ]
  },
  {
   "cell_type": "code",
   "execution_count": 15,
   "metadata": {},
   "outputs": [
    {
     "data": {
      "text/plain": [
       "array([[5., 0., 0., 0., 0., 0., 0., 0., 0., 0.],\n",
       "       [0., 5., 0., 0., 0., 0., 0., 0., 0., 0.],\n",
       "       [0., 0., 5., 0., 0., 0., 0., 0., 0., 0.],\n",
       "       [0., 0., 0., 5., 0., 0., 0., 0., 0., 0.],\n",
       "       [0., 0., 0., 0., 5., 0., 0., 0., 0., 0.],\n",
       "       [0., 0., 0., 0., 0., 5., 0., 0., 0., 0.],\n",
       "       [0., 0., 0., 0., 0., 0., 5., 0., 0., 0.],\n",
       "       [0., 0., 0., 0., 0., 0., 0., 5., 0., 0.],\n",
       "       [0., 0., 0., 0., 0., 0., 0., 0., 5., 0.],\n",
       "       [0., 0., 0., 0., 0., 0., 0., 0., 0., 5.]])"
      ]
     },
     "execution_count": 15,
     "metadata": {},
     "output_type": "execute_result"
    }
   ],
   "source": [
    "np.eye(10)*5"
   ]
  },
  {
   "cell_type": "code",
   "execution_count": 16,
   "metadata": {
    "slideshow": {
     "slide_type": "skip"
    }
   },
   "outputs": [],
   "source": [
    "def resta_exponenciales(x):\n",
    "    s1 = np.exp(-x[0] ** 2 - x[1] ** 2)\n",
    "    s2 = np.exp(-(x[0] - 1) ** 2 - (x[1] - 1) ** 2)\n",
    "    return (s1 - s2) * 2\n",
    "\n",
    "def a_forma_cuadratica(A):\n",
    "    \"\"\"\n",
    "    Transforma la función dada por (1/2)(x^T A x) a una función dada en términos de x1 y x2 para que sea posible \n",
    "    graficar sus curvas de nivel en R2.\n",
    "    A tiene que ser una matriz de 2x2\n",
    "    \"\"\"\n",
    "    def forma_cuadratica(x):\n",
    "        return 0.5*(A[0,0]*(x[0]**2) + (A[0,1]+A[1,0])*x[0]*x[1] + A[1,1]*(x[1]**2))\n",
    "    return forma_cuadratica\n",
    "\n",
    "def plot_fun(f, limites, points=None):\n",
    "    \"\"\"\n",
    "    f : función a graficar\n",
    "    limites : toma una tupla (x1,x2,y1,y2) de los límites del gráfico: grafica en el dominio [x1,x2] x [y1,y2]\n",
    "    points : lista de puntos a graficar sobre la superficie; se ingresa como una lista de tuplas (x,y,z) \n",
    "    \"\"\"\n",
    "    init_notebook_mode(connected=True)\n",
    "\n",
    "    x = np.linspace(limites[0], limites[1], 1000)\n",
    "    y = np.linspace(limites[2], limites[3], 1000)\n",
    "    X, Y = np.meshgrid(x, y)\n",
    "    Z = f((X, Y))\n",
    "    data = [go.Surface(x=x, y=y, z=Z)]\n",
    "    if points is not None:\n",
    "        for p in points:\n",
    "            data.append(go.Scatter3d(x=[p[0]], y=[p[1]], z=[p[2]], mode='markers'))\n",
    "    fig = go.Figure(data=data)\n",
    "    iplot(fig)\n",
    "\n",
    "%matplotlib notebook\n",
    "def graficar_recorrido(f, limites, recorrido=None, levels=10):\n",
    "    \"\"\" \n",
    "    Función que grafica curvas de nivel y, opcionalmente, el recorrido de un método.\n",
    "    f : es la función a graficar (tiene que ir de R2 en R)\n",
    "    limites : es una lista o tupla de números: [a,b,c,d]. Va a graficar la función en el cuadrado [a,b] x [c,d]\n",
    "    recorrido : acepta una lista de arrays bidimensionales para graficar el recorrido de un método\n",
    "    levels : cantidad de curvas de nivel a graficar\n",
    "    \"\"\"\n",
    "    plt.figure()\n",
    "    x = np.linspace(limites[0], limites[1], 1000)\n",
    "    y = np.linspace(limites[2], limites[3], 1000)\n",
    "    X, Y = np.meshgrid(x, y)\n",
    "    Z = f((X, Y))\n",
    "    plt.contour(X,Y,Z, cmap='plasma', levels=levels)\n",
    "    if recorrido is not None:\n",
    "        x_coords = [x[0] for x in recorrido]\n",
    "        y_coords = [x[1] for x in recorrido]\n",
    "        plt.plot(x_coords, y_coords, marker='o', lw=2, ms=8)\n",
    "    plt.tight_layout()\n",
    "    plt.gca().set_aspect('equal', adjustable='box')\n",
    "    plt.show()"
   ]
  },
  {
   "cell_type": "code",
   "execution_count": 17,
   "metadata": {},
   "outputs": [
    {
     "ename": "NameError",
     "evalue": "name 'metodo_gradiente' is not defined",
     "output_type": "error",
     "traceback": [
      "\u001b[0;31m---------------------------------------------------------------------------\u001b[0m",
      "\u001b[0;31mNameError\u001b[0m                                 Traceback (most recent call last)",
      "\u001b[0;32m/tmp/ipykernel_5373/1070749903.py\u001b[0m in \u001b[0;36m<cell line: 2>\u001b[0;34m()\u001b[0m\n\u001b[1;32m      1\u001b[0m \u001b[0;31m# EJEMPLO PARA GRAFICAR EL RECORRIDO EN EL EJERCICIO 2\u001b[0m\u001b[0;34m\u001b[0m\u001b[0;34m\u001b[0m\u001b[0m\n\u001b[0;32m----> 2\u001b[0;31m \u001b[0mx_opt\u001b[0m\u001b[0;34m,\u001b[0m \u001b[0miteraciones\u001b[0m\u001b[0;34m,\u001b[0m \u001b[0mrecorrido\u001b[0m \u001b[0;34m=\u001b[0m \u001b[0mmetodo_gradiente\u001b[0m\u001b[0;34m(\u001b[0m\u001b[0mA4\u001b[0m\u001b[0;34m,\u001b[0m \u001b[0mnp\u001b[0m\u001b[0;34m.\u001b[0m\u001b[0mzeros\u001b[0m\u001b[0;34m(\u001b[0m\u001b[0;36m2\u001b[0m\u001b[0;34m)\u001b[0m\u001b[0;34m,\u001b[0m \u001b[0mnp\u001b[0m\u001b[0;34m.\u001b[0m\u001b[0mones\u001b[0m\u001b[0;34m(\u001b[0m\u001b[0;36m2\u001b[0m\u001b[0;34m)\u001b[0m\u001b[0;34m,\u001b[0m \u001b[0;36m100\u001b[0m\u001b[0;34m)\u001b[0m\u001b[0;34m\u001b[0m\u001b[0;34m\u001b[0m\u001b[0m\n\u001b[0m\u001b[1;32m      3\u001b[0m \u001b[0mf\u001b[0m \u001b[0;34m=\u001b[0m \u001b[0ma_forma_cuadratica\u001b[0m\u001b[0;34m(\u001b[0m\u001b[0mA4\u001b[0m\u001b[0;34m)\u001b[0m\u001b[0;34m\u001b[0m\u001b[0;34m\u001b[0m\u001b[0m\n\u001b[1;32m      4\u001b[0m \u001b[0mgraficar_recorrido\u001b[0m\u001b[0;34m(\u001b[0m\u001b[0mf\u001b[0m\u001b[0;34m,\u001b[0m \u001b[0;34m[\u001b[0m\u001b[0;34m-\u001b[0m\u001b[0;36m1\u001b[0m\u001b[0;34m,\u001b[0m \u001b[0;36m1\u001b[0m\u001b[0;34m,\u001b[0m \u001b[0;34m-\u001b[0m\u001b[0;36m1\u001b[0m\u001b[0;34m,\u001b[0m \u001b[0;36m1\u001b[0m\u001b[0;34m]\u001b[0m\u001b[0;34m,\u001b[0m \u001b[0mrecorrido\u001b[0m\u001b[0;34m)\u001b[0m\u001b[0;34m\u001b[0m\u001b[0;34m\u001b[0m\u001b[0m\n",
      "\u001b[0;31mNameError\u001b[0m: name 'metodo_gradiente' is not defined"
     ]
    }
   ],
   "source": [
    "# EJEMPLO PARA GRAFICAR EL RECORRIDO EN EL EJERCICIO 2\n",
    "x_opt, iteraciones, recorrido = metodo_gradiente(A4, np.zeros(2), np.ones(2), 100)\n",
    "f = a_forma_cuadratica(A4)\n",
    "graficar_recorrido(f, [-1, 1, -1, 1], recorrido)"
   ]
  }
 ],
 "metadata": {
  "kernelspec": {
   "display_name": "Python 3 (ipykernel)",
   "language": "python",
   "name": "python3"
  },
  "language_info": {
   "codemirror_mode": {
    "name": "ipython",
    "version": 3
   },
   "file_extension": ".py",
   "mimetype": "text/x-python",
   "name": "python",
   "nbconvert_exporter": "python",
   "pygments_lexer": "ipython3",
   "version": "3.9.13"
  }
 },
 "nbformat": 4,
 "nbformat_minor": 1
}
